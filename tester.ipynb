{
 "cells": [
  {
   "cell_type": "code",
   "execution_count": null,
   "metadata": {},
   "outputs": [],
   "source": [
    "from accuracy import *\n",
    "\n",
    "def compute_metrics(results, save_path=None):\n",
    "    baseline_metrics, prediction_metrics = [], []\n",
    "    \n",
    "    for (predictions, inputs, outputs) in results:\n",
    "        snr_scores = SignalNoiseRatio()(inputs, outputs)\n",
    "        sdr_scores = SignalDistortionRatio()(inputs, outputs)\n",
    "        si_sdr_scores = ScaleInvariantSignalDistortionRatio()(inputs, outputs)\n",
    "        baseline_scores = [snr_scores, sdr_scores, si_sdr_scores]\n",
    "        \n",
    "        num_models = len(predictions)\n",
    "        prediction_scores = [0]*num_models\n",
    "        for i in range(num_models):\n",
    "            pred_snr_scores = SignalNoiseRatio()(predictions[i], outputs)\n",
    "            pred_sdr_scores = SignalDistortionRatio()(predictions[i], outputs)\n",
    "            pred_si_sdr_scores = ScaleInvariantSignalDistortionRatio()(predictions[i], outputs)\n",
    "            \n",
    "            prediction_scores[i] = [pred_snr_scores, pred_sdr_scores, pred_si_sdr_scores]\n",
    "        \n",
    "        baseline_metrics.append(baseline_scores)\n",
    "        prediction_metrics.append(prediction_scores)\n",
    "    \n",
    "    if save_path:\n",
    "        torch.save({\n",
    "            \"baseline_metrics\": baseline_metrics,\n",
    "            \"prediction_metrics\": prediction_metrics\n",
    "        }, save_path)\n",
    "    \n",
    "    return baseline_metrics, prediction_metrics"
   ]
  }
 ],
 "metadata": {
  "language_info": {
   "name": "python"
  }
 },
 "nbformat": 4,
 "nbformat_minor": 2
}
